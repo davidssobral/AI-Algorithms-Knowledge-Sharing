{
 "cells": [
  {
   "cell_type": "markdown",
   "metadata": {},
   "source": [
    "# OneMax Deceptive with Genetic Algorithms"
   ]
  },
  {
   "cell_type": "code",
   "execution_count": 284,
   "metadata": {},
   "outputs": [],
   "source": [
    "# Importing all libraries that we'll need\n",
    "from numpy.random import randint\n",
    "from numpy.random import rand\n",
    "import random"
   ]
  },
  {
   "cell_type": "markdown",
   "metadata": {},
   "source": [
    "#### Initializing a population with function"
   ]
  },
  {
   "cell_type": "code",
   "execution_count": 285,
   "metadata": {},
   "outputs": [],
   "source": [
    "# Random Initial Population\n",
    "def initPopulation(size, n_bits):\n",
    "    population = []\n",
    "    for i in range(size):\n",
    "        population.append(randint(0, 2, n_bits).tolist())\n",
    "\n",
    "    return population"
   ]
  },
  {
   "cell_type": "markdown",
   "metadata": {},
   "source": [
    "#### Python functions with genetic propposals"
   ]
  },
  {
   "cell_type": "code",
   "execution_count": 286,
   "metadata": {},
   "outputs": [],
   "source": [
    "# Roullette selection function\n",
    "def roullette(population):\n",
    "    # For this example, we'll use the number of iterations\n",
    "    # equal to the number of individuals inside the initial popul.\n",
    "    # to produce the same number of individuals in a new one\n",
    "    n_iter = len(population)\n",
    "    \n",
    "    # Starting the selection process by getting the weight (score) of each individual\n",
    "    scores = []\n",
    "    for individual in population:\n",
    "        scores.append(fitness_func(individual))\n",
    "    \n",
    "    # Start the roullette process with numpy random.choices()\n",
    "    new_pop = []\n",
    "    for i in range(n_iter):\n",
    "        result = random.choices(population, weights=scores, k=1)\n",
    "        new_pop.append(result[0])\n",
    "    \n",
    "    return new_pop"
   ]
  },
  {
   "cell_type": "code",
   "execution_count": 287,
   "metadata": {},
   "outputs": [],
   "source": [
    "# Two-point crossover function with two parents\n",
    "def crossover(p1, p2, tx_cross):\n",
    "    # Children are copies of parents by default\n",
    "    c1, c2 = p1.copy(), p2.copy()\n",
    "    # Check for recombination\n",
    "    if rand() < tx_cross:\n",
    "        # Select crossover point 1 that is not on the end of the string\n",
    "        # And at least two bits difference from the end, after get the next\n",
    "        # 2 bits with the point 2\n",
    "        pt1 = randint(1, len(p1)-3)\n",
    "        pt2 = pt1 + 2\n",
    "        # Perform crossover\n",
    "        c1 = p1[:pt1] + p2[pt1:pt2] + p1[pt2:]\n",
    "        c2 = p2[:pt1] + p1[pt1:pt2] + p2[pt2:]\n",
    "    \n",
    "    return [c1, c2]"
   ]
  },
  {
   "cell_type": "markdown",
   "metadata": {},
   "source": [
    "![Crossover with 2 points](<Images/Crossover.jpg>)"
   ]
  },
  {
   "cell_type": "code",
   "execution_count": 288,
   "metadata": {},
   "outputs": [],
   "source": [
    "# Bit flip mutation operator\n",
    "def mutation(individual, tx_mut):\n",
    "    for i in range(len(individual)):\n",
    "        # Check for a mutation\n",
    "        if rand() < tx_mut:\n",
    "            # Change the bit (0 or 1)\n",
    "            individual[i] = 1 - individual[i]"
   ]
  },
  {
   "cell_type": "code",
   "execution_count": 289,
   "metadata": {},
   "outputs": [],
   "source": [
    "# Fitness function to get the adaptative score of an individual\n",
    "def fitness_func(individual):\n",
    "    '''The sum of all ones in the individual (list).'''\n",
    "    counter = 0\n",
    "    for bit in individual:\n",
    "        counter += bit\n",
    "    if counter == len(individual):\n",
    "        counter = 0\n",
    "    elif counter == 0:\n",
    "        counter = len(individual)\n",
    "\n",
    "    return counter"
   ]
  },
  {
   "cell_type": "markdown",
   "metadata": {},
   "source": [
    "#### The mainly function"
   ]
  },
  {
   "cell_type": "code",
   "execution_count": 290,
   "metadata": {},
   "outputs": [],
   "source": [
    "def genetic_algorithm(pop, n_bits, n_iter, n_pop, tx_cross, tx_mut):\n",
    "\n",
    "    # Variable to store the best individual score of all generations\n",
    "    # and a flag to store a value only in the beggining\n",
    "    best_fitness_global = 0\n",
    "    flag = True\n",
    "\n",
    "    for gen in range(0, n_iter):\n",
    "        # Generate a list of fitness score of the initial population\n",
    "        fitness = [fitness_func(ind) for ind in pop]\n",
    "\n",
    "        # Verifying the best score(s)\n",
    "        best_fitness_init = fitness_func(pop[0])\n",
    "\n",
    "        if flag: \n",
    "            best_fitness_global = best_fitness_init\n",
    "            flag = False\n",
    "\n",
    "        for i in range(n_pop):\n",
    "            if fitness[i] == n_bits:\n",
    "                return gen, pop[i], fitness[i]\n",
    "        if fitness[i] > best_fitness_global:\n",
    "            bestInd = pop[i]\n",
    "            bestFitness = fitness[i]\n",
    "            bestFitness = best_fitness_global\n",
    "            print(f'Generation: {gen+1} - Individual: {bestInd} - Fitness Score: {bestFitness}')\n",
    "        \n",
    "        # The roullete method for selection of best individuals\n",
    "        temp_pop = []\n",
    "        temp_pop = roullette(pop)\n",
    "\n",
    "        # Cleaning the actual population, to replace it with the new one after\n",
    "        pop.clear()\n",
    "\n",
    "        # Applying the crossover and mutation operators\n",
    "        for i in range(0, n_pop, 2):\n",
    "            p1, p2 = temp_pop[i], temp_pop[i+1]\n",
    "\n",
    "            # Crossover\n",
    "            for c in crossover(p1, p2, tx_cross):\n",
    "                # Mutation\n",
    "                mutation(c, tx_mut)\n",
    "                # Adding to population\n",
    "                pop.append(c)\n",
    "    \n",
    "    return (gen+1), bestInd, bestFitness"
   ]
  },
  {
   "cell_type": "markdown",
   "metadata": {},
   "source": [
    "#### Implementing"
   ]
  },
  {
   "cell_type": "code",
   "execution_count": 291,
   "metadata": {},
   "outputs": [
    {
     "name": "stdout",
     "output_type": "stream",
     "text": [
      "Individual: [0, 0, 1, 0, 1]\n",
      "Individual: [0, 0, 1, 0, 0]\n",
      "Individual: [1, 1, 1, 1, 1]\n",
      "Individual: [0, 0, 1, 0, 1]\n",
      "Individual: [0, 1, 0, 0, 0]\n",
      "Individual: [1, 0, 1, 1, 1]\n",
      "Individual: [1, 0, 0, 0, 1]\n",
      "Individual: [0, 1, 0, 1, 1]\n"
     ]
    }
   ],
   "source": [
    "# Define the total iterations\n",
    "n_iter = 10\n",
    "\n",
    "# Bits\n",
    "n_bits = 5\n",
    "\n",
    "# Define the population size\n",
    "n_pop = 8\n",
    "\n",
    "# Crossover rate\n",
    "tx_cross = 0.9\n",
    "\n",
    "# Mutation rate\n",
    "tx_mut = 0.2\n",
    "\n",
    "# Initial population\n",
    "population = initPopulation(n_pop, n_bits)\n",
    "for i in population:\n",
    "    print(f'Individual: {i}')"
   ]
  },
  {
   "cell_type": "code",
   "execution_count": 292,
   "metadata": {},
   "outputs": [
    {
     "name": "stdout",
     "output_type": "stream",
     "text": [
      "Generation: 1 - Individual: [0, 1, 0, 1, 1] - Fitness Score: 2\n",
      "Generation: 2 - Individual: [0, 0, 1, 1, 1] - Fitness Score: 2\n",
      "Generation: 3 - Individual: [1, 0, 1, 1, 1] - Fitness Score: 2\n",
      "Generation: 5 - Individual: [0, 0, 1, 1, 1] - Fitness Score: 2\n",
      "Generation: 6 - Individual: [0, 1, 0, 1, 1] - Fitness Score: 2\n",
      "Generation: 7 - Individual: [1, 1, 0, 0, 1] - Fitness Score: 2\n",
      "\n",
      "Final result:\n",
      "Generation: 8 - Individual: [0, 0, 0, 0, 0] - Fitness Score: 5\n"
     ]
    }
   ],
   "source": [
    "# Executing the algorithm\n",
    "gen, ind, fitness = genetic_algorithm(population, n_bits, n_iter, n_pop, tx_cross, tx_mut)\n",
    "print('\\nFinal result:')\n",
    "print(f'Generation: {gen} - Individual: {ind} - Fitness Score: {fitness}')"
   ]
  }
 ],
 "metadata": {
  "kernelspec": {
   "display_name": "Python 3",
   "language": "python",
   "name": "python3"
  },
  "language_info": {
   "codemirror_mode": {
    "name": "ipython",
    "version": 3
   },
   "file_extension": ".py",
   "mimetype": "text/x-python",
   "name": "python",
   "nbconvert_exporter": "python",
   "pygments_lexer": "ipython3",
   "version": "3.10.11"
  }
 },
 "nbformat": 4,
 "nbformat_minor": 2
}
